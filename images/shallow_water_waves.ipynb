{
 "cells": [
  {
   "cell_type": "markdown",
   "metadata": {},
   "source": [
    "### Longwave dispersion relationship:\n",
    "\n",
    "$\\omega = k\\sqrt{gh}$"
   ]
  },
  {
   "cell_type": "code",
   "execution_count": 1,
   "metadata": {
    "collapsed": false
   },
   "outputs": [],
   "source": [
    "import numpy as np\n",
    "\n",
    "twopi = 2 * np.pi\n",
    "\n",
    "L = 10500  # Lambda [m].\n",
    "H = 500.  # Water column depth [m].\n",
    "N0 = 10  # Wave amplitude [m].\n",
    "K = twopi / L  # Wavenumber [m^{-1}].\n",
    "g = 9.8  # Aceleration of gravity [m s^{-2}]\n",
    "w = np.sqrt(g * K ** 2 * H)  # Longwave dispersion [rad s^{-1}].\n",
    "T = twopi/ w  # Period [s].\n",
    "\n",
    "t = np.arange(0, 4 * T)\n",
    "\n",
    "z000, z100, z200, z300, z400, z500 = 0, -100, -200, -300, -400, -500"
   ]
  },
  {
   "cell_type": "code",
   "execution_count": 2,
   "metadata": {
    "collapsed": false
   },
   "outputs": [
    {
     "name": "stdout",
     "output_type": "stream",
     "text": [
      "H/L = 0.05: Longwave!\n"
     ]
    }
   ],
   "source": [
    "HoL = H/L\n",
    "if HoL < 1./20:\n",
    "    print(\"H/L = {:.2f}: Longwave!\".format(HoL))\n",
    "else:\n",
    "    print(\"H/L = {:.2f}: This is not a longwave :(\".format(HoL))"
   ]
  },
  {
   "cell_type": "markdown",
   "metadata": {},
   "source": [
    "The code below solve the following equations (Check them out in the course notes!):\n",
    "\n",
    "Free surface displacement: $\\eta = N_o\\cos({kx - \\omega t})$\n",
    "\n",
    "x displacement: $\\chi = -\\frac{\\eta_o}{kH}\\sin({kx - \\omega t})$\n",
    "\n",
    "z displacement: $\\zeta = \\frac{\\eta_o}{H}(z + H)\\cos({kx - \\omega t})$"
   ]
  },
  {
   "cell_type": "code",
   "execution_count": 3,
   "metadata": {
    "collapsed": false
   },
   "outputs": [],
   "source": [
    "def plot_paths(ax, x=0, color='grey', alpha=0.75, linewidth=3):\n",
    "    X = -(N0 / K * H) * np.sin((K * x) - (w * t)) + x\n",
    "    \n",
    "    Z000 = ((N0 / H) * (z000 + H)) * np.cos((K * x) - (w * t)) + z000\n",
    "    Z100 = ((N0 / H) * (z100 + H)) * np.cos((K * x) - (w * t)) + z100\n",
    "    Z200 = ((N0 / H) * (z200 + H)) * np.cos((K * x) - (w * t)) + z200\n",
    "    Z300 = ((N0 / H) * (z300 + H)) * np.cos((K * x) - (w * t)) + z300\n",
    "    Z400 = ((N0 / H) * (z400 + H)) * np.cos((K * x) - (w * t)) + z400\n",
    "    Z500 = ((N0 / H) * (z500 + H)) * np.cos((K * x) - (w * t)) + z500\n",
    "\n",
    "    kw = dict(color=color, alpha=alpha, linewidth=linewidth)\n",
    "    lines = ax.plot(X, Z000,\n",
    "                    X, Z100,\n",
    "                    X, Z200,\n",
    "                    X, Z300,\n",
    "                    X, Z400,\n",
    "                    X, Z400,\n",
    "                    X, Z500, **kw)\n",
    "    return lines"
   ]
  },
  {
   "cell_type": "code",
   "execution_count": 4,
   "metadata": {
    "collapsed": false
   },
   "outputs": [
    {
     "data": {
      "image/png": "[encoded data removed]",
      "text/plain": [
       "<matplotlib.figure.Figure at 0x7f20c3b9fdd8>"
      ]
     },
     "metadata": {},
     "output_type": "display_data"
    }
   ],
   "source": [
    "%matplotlib inline\n",
    "\n",
    "import matplotlib.pyplot as plt\n",
    "\n",
    "fig, ax = plt.subplots(figsize=(4, 4))\n",
    "\n",
    "kw = dict(color='ivory', alpha=0.75, linewidth=2)\n",
    "lines0 = plot_paths(ax, x=-4e7, **kw)\n",
    "lines1 = plot_paths(ax, x=0, **kw)\n",
    "lines2 = plot_paths(ax, x=4e7, **kw)\n",
    "\n",
    "ax.set_xlabel(r'Distância $\\frac{m}{2\\pi}$')\n",
    "ax.set_ylabel('Profundidade m')\n",
    "\n",
    "N = N0 * np.cos((K * 0) - (w * t))\n",
    "xmin, xmax = ax.get_xlim()\n",
    "x = np.linspace(xmin, xmax, N.size)\n",
    "ax.plot(x, N, color='darkorange', linewidth=4, alpha=.75)\n",
    "\n",
    "ax.annotate(r'$\\eta$', xy=(x[-35], N[-35]),  xycoords='data',\n",
    "            xytext=(15, 15), textcoords='offset points',\n",
    "            color='ivory',\n",
    "            arrowprops=dict(arrowstyle=\"->\",\n",
    "                            connectionstyle=\"arc3,rad=0.2\",\n",
    "                            color='ivory'))\n",
    "\n",
    "ax.text(-4e7, 30, r'H $\\leq \\frac{L}{20}$', color='ivory')\n",
    "fig.tight_layout()\n",
    "ax.axis('off')\n",
    "ax.set_ylim(-520, 90)\n",
    "fig.savefig(\"shallow_water_waves.svg\", bbox_inches='tight',\n",
    "           transparent=True)"
   ]
  }
 ],
 "metadata": {
  "kernelspec": {
   "display_name": "Python 3",
   "language": "python",
   "name": "python3"
  },
  "language_info": {
   "codemirror_mode": {
    "name": "ipython",
    "version": 3
   },
   "file_extension": ".py",
   "mimetype": "text/x-python",
   "name": "python",
   "nbconvert_exporter": "python",
   "pygments_lexer": "ipython3",
   "version": "3.4.1"
  }
 },
 "nbformat": 4,
 "nbformat_minor": 0
}
