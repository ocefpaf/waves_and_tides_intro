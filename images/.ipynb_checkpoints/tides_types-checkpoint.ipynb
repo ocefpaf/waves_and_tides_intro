{
 "cells": [
  {
   "cell_type": "code",
   "execution_count": null,
   "metadata": {
    "collapsed": true
   },
   "outputs": [],
   "source": [
    "%matplotlib inline\n",
    "\n",
    "import numpy as np\n",
    "from matplotlib import style\n",
    "import matplotlib.pyplot as plt\n",
    "\n",
    "t = np.arange(50)\n",
    "kw = dict(alpha=0.5, linewidth=3)\n",
    "figkw = dict(transparent=False, dpi=120, bbox_inches='tight')\n",
    "arrowprops = dict(arrowstyle='<->', color='black')"
   ]
  },
  {
   "cell_type": "markdown",
   "metadata": {},
   "source": [
    "# Diurnal"
   ]
  },
  {
   "cell_type": "code",
   "execution_count": null,
   "metadata": {
    "collapsed": false
   },
   "outputs": [],
   "source": [
    "K1amp, K1phase = 1.8, 0\n",
    "diurnal = K1amp * np.sin(2 * np.pi * t / 23.9344 - K1phase)\n",
    "\n",
    "\n",
    "fig, ax = plt.subplots(figsize=(7, 2.75))\n",
    "\n",
    "ax.plot(t, diurnal, color='darkorange', **kw)\n",
    "ax.set_xlim(0, 48)\n",
    "ax.axhline(color='k', **kw)\n",
    "ax.set_xlabel('Horas')\n",
    "ax.set_ylabel('m')\n",
    "ax.grid(True)\n",
    "\n",
    "ax.yaxis.set_ticks(np.arange(-4, 4+2, 2))\n",
    "ax.xaxis.set_ticks(np.arange(0, 48+12, 12))\n",
    "\n",
    "ax.annotate('', xy=(6, 2), xycoords='data',\n",
    "            xytext=(30, 2), textcoords='data',\n",
    "            arrowprops=arrowprops)\n",
    "ax.text(18, 2.1, \"Período da Maré\", ha='center')\n",
    "\n",
    "ax.annotate('', xy=(6, 3), xycoords='data',\n",
    "            xytext=(30, 3), textcoords='data',\n",
    "            arrowprops=arrowprops)\n",
    "ax.text(18, 3.1, \"Dia da Maré\", ha='center')\n",
    "\n",
    "ax.text(30, -3, \"Maré Diurna\", ha='center')\n",
    "\n",
    "fig.savefig(\"diurnal.png\", **figkw)"
   ]
  },
  {
   "cell_type": "markdown",
   "metadata": {},
   "source": [
    "# Semi-diurnal"
   ]
  },
  {
   "cell_type": "code",
   "execution_count": null,
   "metadata": {
    "collapsed": false
   },
   "outputs": [],
   "source": [
    "M2amp, M2phase = 2, 0\n",
    "S2amp, S2phase = 0.6, np.pi\n",
    "\n",
    "semidiurnal = M2amp * np.sin(2 * np.pi * t / 12.42 - M2phase)\n",
    "semidiurnal += S2amp * np.sin(2 * np.pi * t / 12.0 - S2phase)\n",
    "\n",
    "fig, ax = plt.subplots(figsize=(7, 2.75))\n",
    "\n",
    "ax.plot(t, semidiurnal, color='darkorange', **kw)\n",
    "ax.set_xlim(0, 48)\n",
    "ax.axhline(color='k', **kw)\n",
    "ax.set_xlabel('Horas')\n",
    "ax.set_ylabel('m')\n",
    "ax.grid(True)\n",
    "\n",
    "ax.yaxis.set_ticks(np.arange(-4, 4+2, 2))\n",
    "ax.xaxis.set_ticks(np.arange(0, 48+12, 12))\n",
    "\n",
    "ax.annotate('', xy=(3, 1.8), xycoords='data',\n",
    "            xytext=(15, 1.8), textcoords='data',\n",
    "            arrowprops=arrowprops)\n",
    "ax.text(9, 2.1, \"Período da Maré\", ha='center')\n",
    "\n",
    "ax.annotate('', xy=(3, 3), xycoords='data',\n",
    "            xytext=(27, 3), textcoords='data',\n",
    "            arrowprops=arrowprops)\n",
    "ax.text(15, 3.1, \"Dia da Maré\", ha='center')\n",
    "\n",
    "ax.text(30, -3, \"Maré semi-diurna\", ha='center')\n",
    "\n",
    "fig.savefig(\"semi-diurnal.png\", **figkw)"
   ]
  },
  {
   "cell_type": "markdown",
   "metadata": {},
   "source": [
    "# Mixed Tides"
   ]
  },
  {
   "cell_type": "code",
   "execution_count": null,
   "metadata": {
    "collapsed": false
   },
   "outputs": [],
   "source": [
    "mixed = diurnal + semidiurnal\n",
    "\n",
    "fig, ax = plt.subplots(figsize=(7, 2.75))\n",
    "\n",
    "ax.plot(t, mixed, color='darkorange', **kw)\n",
    "ax.set_xlim(0, 48)\n",
    "ax.axhline(color='k', **kw)\n",
    "ax.set_xlabel('Horas')\n",
    "ax.set_ylabel('m')\n",
    "ax.grid(True)\n",
    "\n",
    "ax.yaxis.set_ticks(np.arange(-4, 4+2, 2))\n",
    "ax.xaxis.set_ticks(np.arange(0, 48+12, 12))\n",
    "\n",
    "ax.annotate('', xy=(3, 1.8), xycoords='data',\n",
    "            xytext=(15, 1.8), textcoords='data',\n",
    "            arrowprops=arrowprops)\n",
    "ax.text(9, 2.1, \"Período da Maré\", ha='center')\n",
    "\n",
    "ax.annotate('', xy=(3, 3), xycoords='data',\n",
    "            xytext=(27, 3), textcoords='data',\n",
    "            arrowprops=arrowprops)\n",
    "ax.text(15, 3.1, \"Dia da Maré\", ha='center')\n",
    "\n",
    "ax.text(30, -3, \"Maré mista\", ha='center')\n",
    "\n",
    "fig.savefig(\"mixed.png\", **figkw)"
   ]
  }
 ],
 "metadata": {
  "kernelspec": {
   "display_name": "Python 3",
   "language": "python",
   "name": "python3"
  },
  "language_info": {
   "codemirror_mode": {
    "name": "ipython",
    "version": 3
   },
   "file_extension": ".py",
   "mimetype": "text/x-python",
   "name": "python",
   "nbconvert_exporter": "python",
   "pygments_lexer": "ipython3",
   "version": "3.4.1"
  }
 },
 "nbformat": 4,
 "nbformat_minor": 0
}
