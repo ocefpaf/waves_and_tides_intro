{
 "cells": [
  {
   "cell_type": "markdown",
   "metadata": {},
   "source": [
    "### Short-wave dispersion relationship:\n",
    "\n",
    "$\\omega = \\sqrt{gk}$"
   ]
  },
  {
   "cell_type": "code",
   "execution_count": 6,
   "metadata": {
    "collapsed": false
   },
   "outputs": [],
   "source": [
    "import numpy as np\n",
    "\n",
    "twopi = 2 * np.pi\n",
    "\n",
    "L = 10  # Lambda [m]\n",
    "H = 20  # Water column depth [m].\n",
    "N0 = 0.5  # Wave amplitude [m].\n",
    "K = twopi / L  # Wave number [m^{-1}].\n",
    "g = 9.8  # Gravity [m s^{-2}].\n",
    "w = np.sqrt(g * K)  # Short-wave dispersion [rad s^{-1}].\n",
    "T = twopi / w  # Period [s].\n",
    "\n",
    "t = np.arange(0, 4 * T, 0.1)\n",
    "z00, z02, z04, z06, z08, z10 = 0, -2, -4, -6, -8, -10  # Depths to plot."
   ]
  },
  {
   "cell_type": "code",
   "execution_count": 7,
   "metadata": {
    "collapsed": false
   },
   "outputs": [
    {
     "name": "stdout",
     "output_type": "stream",
     "text": [
      "H/L = 2.00: Short-wave! \n"
     ]
    }
   ],
   "source": [
    "HoL = H/L\n",
    "if HoL > 1./2:\n",
    "    print(\"H/L = {:.2f}: Short-wave! \".format(HoL))\n",
    "else:\n",
    "    print(\"H/L = {:.2f}: This is not a shortwave :( \".format(HoL))"
   ]
  },
  {
   "cell_type": "markdown",
   "metadata": {},
   "source": [
    "The code below solve the following equations:\n",
    "\n",
    "Free surface displacement: $\\eta = N_o\\cos({kx - \\omega t})$\n",
    "\n",
    "x displacement: $\\chi = -\\eta_o\\sin({kx - \\omega t})[\\cosh(kz) + \\sinh(kz)]$\n",
    "\n",
    "z displacement: $\\zeta = \\eta_o\\cos({kx - \\omega t})[\\cosh(kz) + \\sinh(kz)]$"
   ]
  },
  {
   "cell_type": "code",
   "execution_count": 8,
   "metadata": {
    "collapsed": false
   },
   "outputs": [],
   "source": [
    "def plot_paths(ax, x=0, color='grey', alpha=0.75, linewidth=3):\n",
    "    X00 = N0 * np.sin(K * x - w * t) * (np.cosh(K * z00) + np.sinh(K * z00)) + x\n",
    "    X02 = N0 * np.sin(K * x - w * t) * (np.cosh(K * z02) + np.sinh(K * z02)) + x\n",
    "    X04 = N0 * np.sin(K * x - w * t) * (np.cosh(K * z04) + np.sinh(K * z04)) + x\n",
    "    X06 = N0 * np.sin(K * x - w * t) * (np.cosh(K * z06) + np.sinh(K * z06)) + x\n",
    "    X08 = N0 * np.sin(K * x - w * t) * (np.cosh(K * z08) + np.sinh(K * z08)) + x\n",
    "    X10 = N0 * np.sin(K * x - w * t) * (np.cosh(K * z10) + np.sinh(K * z10)) + x\n",
    "\n",
    "    Z00 = N0 * np.cos(K * x - w * t) * (np.sinh(K * z00) + np.cosh(K * z00))\n",
    "    Z02 = N0 * np.cos(K * x - w * t) * (np.sinh(K * z02) + np.cosh(K * z02)) + z02\n",
    "    Z04 = N0 * np.cos(K * x - w * t) * (np.sinh(K * z04) + np.cosh(K * z04)) + z04\n",
    "    Z06 = N0 * np.cos(K * x - w * t) * (np.sinh(K * z06) + np.cosh(K * z06)) + z06\n",
    "    Z08 = N0 * np.cos(K * x - w * t) * (np.sinh(K * z08) + np.cosh(K * z08)) + z08\n",
    "    Z10 = N0 * np.cos(K * x - w * t) * (np.sinh(K * z10) + np.cosh(K * z10)) + z10\n",
    "    \n",
    "    kw = dict(color=color, alpha=alpha, linewidth=linewidth)\n",
    "    lines = ax.plot(X00, Z00,\n",
    "                    X02, Z02,\n",
    "                    X04, Z04,\n",
    "                    X06, Z06,\n",
    "                    X08, Z08,\n",
    "                    X10, Z10, **kw)\n",
    "    return lines"
   ]
  },
  {
   "cell_type": "code",
   "execution_count": 9,
   "metadata": {
    "collapsed": false,
    "scrolled": true
   },
   "outputs": [
    {
     "data": {
      "image/png": "[encoded data removed]",
      "text/plain": [
       "<matplotlib.figure.Figure at 0x7fef4a6bbb70>"
      ]
     },
     "metadata": {},
     "output_type": "display_data"
    }
   ],
   "source": [
    "%matplotlib inline\n",
    "\n",
    "import matplotlib.pyplot as plt\n",
    "\n",
    "fig, ax = plt.subplots(figsize=(6, 4))\n",
    "\n",
    "kw = dict(color='ivory', alpha=0.75, linewidth=2)\n",
    "lines0 = plot_paths(ax, x=-4, **kw)\n",
    "lines1 = plot_paths(ax, x=0, **kw)\n",
    "lines2 = plot_paths(ax, x=4, **kw)\n",
    "\n",
    "ax.set_xlabel(r'Distância $\\frac{m}{2\\pi}$')\n",
    "ax.set_ylabel('Profundidade m')\n",
    "\n",
    "N = N0 * np.cos((K * 0) - (w * t))\n",
    "xmin, xmax = ax.get_xlim()\n",
    "x = np.linspace(xmin, xmax, N.size)\n",
    "ax.plot(x, N, color='darkorange', linewidth=4, alpha=.75)\n",
    "\n",
    "ax.annotate(r'$\\eta$', xy=(x[-4], N[-4]),  xycoords='data',\n",
    "            xytext=(15, 15), textcoords='offset points',\n",
    "            color='ivory',\n",
    "            arrowprops=dict(arrowstyle=\"->\",\n",
    "                            connectionstyle=\"arc3,rad=0.2\",\n",
    "                            color='ivory'))\n",
    "\n",
    "ax.text(-4, 1, r'H $\\geq \\frac{L}{2}$', color='ivory')\n",
    "\n",
    "fig.tight_layout()\n",
    "ax.axis('off')\n",
    "fig.savefig(\"deep_water_waves.svg\", bbox_inches='tight',\n",
    "           transparent=True)"
   ]
  }
 ],
 "metadata": {
  "kernelspec": {
   "display_name": "Python 3",
   "language": "python",
   "name": "python3"
  },
  "language_info": {
   "codemirror_mode": {
    "name": "ipython",
    "version": 3
   },
   "file_extension": ".py",
   "mimetype": "text/x-python",
   "name": "python",
   "nbconvert_exporter": "python",
   "pygments_lexer": "ipython3",
   "version": "3.4.1"
  }
 },
 "nbformat": 4,
 "nbformat_minor": 0
}
