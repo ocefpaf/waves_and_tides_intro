{
 "cells": [
  {
   "cell_type": "code",
   "execution_count": null,
   "metadata": {
    "collapsed": false
   },
   "outputs": [],
   "source": [
    "import numpy as np\n",
    "import matplotlib.pyplot as plt\n",
    "from matplotlib import animation\n",
    "\n",
    "from JSAnimation import IPython_display"
   ]
  },
  {
   "cell_type": "markdown",
   "metadata": {},
   "source": [
    "# Standing wave"
   ]
  },
  {
   "cell_type": "code",
   "execution_count": null,
   "metadata": {
    "collapsed": true
   },
   "outputs": [],
   "source": [
    "T = 20.\n",
    "w = 2 * np.pi / T\n",
    "ai = 1.  # Incident.\n",
    "ar = 0.5  # Reflected.\n",
    "d = 0\n",
    "k = w**2 / 9.81  # Deep water wave.\n",
    "\n",
    "t = np.arange(0, 100.5, 0.5)"
   ]
  },
  {
   "cell_type": "code",
   "execution_count": null,
   "metadata": {
    "collapsed": false
   },
   "outputs": [],
   "source": [
    "def basic_animation(frames=100, interval=30):\n",
    "    fig = plt.figure()\n",
    "    ax = plt.axes(xlim=(0, 1000), ylim=(-2, 2))\n",
    "    \n",
    "    # Animated.\n",
    "    line, = ax.plot([], [], 'b', lw=2)\n",
    "    text = ax.text(1, 2.05, '')\n",
    "\n",
    "    # Non-animated.\n",
    "    x = np.arange(0, 1001)\n",
    "    A = (ai**2 + ar**2 + 2*ai * ar * np.cos(2 * k * x + d))**(0.5)\n",
    "    A1 = ai * np.cos(k * x) + ar * np.cos(k * x + d)\n",
    "    A2 = ai * np.sin(k * x) - ar * np.sin(k * x + d)\n",
    "    gamma = np.arctan2(A2, A1)\n",
    "    ax.set_xlabel('Distance [m]')\n",
    "    ax.set_ylabel('Surface Elevation [m]')\n",
    "    ax.set_title('a_i = %s, a_r = %s, T = %s\\nDeep Water Wave' % (ai, ar, T))\n",
    "    ax.plot(x,  A, 'k:')\n",
    "    ax.plot(x, -A, 'k:')\n",
    "    ax.plot(x, [0]*len(x), 'k')\n",
    "    line.set_data([], [])\n",
    "    \n",
    "    def init():\n",
    "        return line, text\n",
    "\n",
    "    def animate(i):\n",
    "        text.set_text('Time [s] = %s' % t[k])\n",
    "        y = A * np.cos(w * t[i] - gamma)\n",
    "        line.set_data(x, y)\n",
    "        return line, text\n",
    "\n",
    "    return animation.FuncAnimation(fig, animate, init_func=init,\n",
    "                                   frames=frames, interval=interval)\n",
    "\n",
    "basic_animation(frames=len(t))"
   ]
  },
  {
   "cell_type": "markdown",
   "metadata": {},
   "source": [
    "# Group velocity"
   ]
  },
  {
   "cell_type": "code",
   "execution_count": null,
   "metadata": {
    "collapsed": true
   },
   "outputs": [],
   "source": [
    "# Wave 1.\n",
    "k1, w1 = 5., 5.\n",
    "c1 = w1 / k1\n",
    "\n",
    "# Wave 2.\n",
    "k2, w2 = 3., 4.5\n",
    "c2 = w2 / k2\n",
    "\n",
    "cg = (w2 - w1) / (k2 - k1)\n",
    "cgc = (w2 + w1) / (k2 + k1)\n",
    "\n",
    "deltg = 10 if cg <= 0 else 10."
   ]
  },
  {
   "cell_type": "code",
   "execution_count": null,
   "metadata": {
    "collapsed": false
   },
   "outputs": [],
   "source": [
    "def basic_animation(frames=200, interval=30, dt=0.1):\n",
    "    fig = plt.figure(figsize=(8, 3))\n",
    "    ax = plt.axes(xlim=(-15, 15), ylim=(-2, 2))\n",
    "    \n",
    "    # Animated.\n",
    "    kw0 = dict(color='k', linestyle=':', alpha=0.5)\n",
    "    kw1 = dict(alpha=0.5, linestyle='none', marker='o')\n",
    "    text = ax.text([], 0, 'Cg')\n",
    "    line0, = ax.plot([], [], color='gray')\n",
    "    line1, = ax.plot([], [], 'r')\n",
    "    line2, = ax.plot([], [], 'g')\n",
    "    line3, = ax.plot([], [], **kw0)\n",
    "    line4, = ax.plot([], [], **kw0)\n",
    "    point0, = ax.plot([], [], 'r', **kw1)\n",
    "    point1, = ax.plot([], [], 'g', **kw1)\n",
    "    point2, = ax.plot([], [], 'gray', **kw1)\n",
    "\n",
    "    # Non-animated.\n",
    "    x = np.arange(-15, 15, 0.05)\n",
    "    ax.set_xlabel('Distance')\n",
    "    ax.set_ylabel('Amplitude')\n",
    "    \n",
    "    def init():\n",
    "        return line0, line1, line2, line3, line4, point0, point1, point2, text\n",
    "\n",
    "    def animate(k):\n",
    "        t = k * dt\n",
    "        eta1 = np.cos(k1 * x - w1 * t)\n",
    "        eta2 = np.cos(k2 * x - w2 * t)\n",
    "        etag = 2 * np.cos((k2 - k1) * x / 2. - (w2 - w1) * t / 2.)\n",
    "        \n",
    "        line0.set_data(x, eta1 + eta2)\n",
    "        line1.set_data(x, eta1)\n",
    "        line2.set_data(x, eta2)\n",
    "        line3.set_data(x, etag)\n",
    "        line4.set_data(x, -etag)\n",
    "        point0.set_data(t * c1 - 10, 0)\n",
    "        point1.set_data(t * c2 - 10, 0)\n",
    "        point2.set_data(t * cgc - 10, 0)\n",
    "        text.set_x(t * cg - deltg)\n",
    "        return line0, line1, line2, line3, line4, point0, point1, point2, text\n",
    "\n",
    "    return animation.FuncAnimation(fig, animate, init_func=init,\n",
    "                                   frames=frames, interval=interval)\n",
    "\n",
    "dt = 0.1  # Time step\n",
    "nstep = 150  # Number of time steps to take.\n",
    "basic_animation(frames=60, dt=dt)"
   ]
  },
  {
   "cell_type": "code",
   "execution_count": null,
   "metadata": {
    "collapsed": true
   },
   "outputs": [],
   "source": [
    "g = 9.81\n",
    "denw = 1025.0  # Seawater density [kg/m**3].\n",
    "sig = 7.3e-2  # Surface tension [N/m].\n",
    "a = 1.0  # Wave amplitude [m].\n",
    "\n",
    "L, h = 100.0, 50.0  # Wave height and water column depth.\n",
    "k = 2 * np.pi / L\n",
    "omega = np.sqrt((g * k + (sig / denw) * (k**3)) * np.tanh(k * h))\n",
    "T = 2 * np.pi / omega\n",
    "c = np.sqrt((g / k + (sig / denw) * k) * np.tanh(k * h))\n",
    "\n",
    "# We'll solve the wave velocities in the `x` and `z` directions.\n",
    "x, z = np.meshgrid(np.arange(0, 160, 10), np.arange(0, -80, -10),)\n",
    "u, w = np.zeros_like(x), np.zeros_like(z)"
   ]
  },
  {
   "cell_type": "code",
   "execution_count": null,
   "metadata": {
    "collapsed": false
   },
   "outputs": [],
   "source": [
    "def compute_vel(phase):\n",
    "    u = a * omega * (np.cosh(k * (z+h)) / np.sinh(k*h)) * np.cos(k * x - phase)\n",
    "    w = a * omega * (np.sinh(k * (z+h)) / np.sinh(k*h)) * np.sin(k * x - phase)\n",
    "    mask = -z > h\n",
    "    u[mask] = 0.0\n",
    "    w[mask] = 0.0\n",
    "    return u, w\n",
    "\n",
    "def basic_animation(frames=91, interval=30, dt=0.3):\n",
    "    fig = plt.figure(figsize=(8, 6))\n",
    "    ax = plt.axes(xlim=(0, 150), ylim=(-70, 10))\n",
    "\n",
    "    # Animated.\n",
    "    quiver = ax.quiver(x, z, u, w, units='inches', scale=2)\n",
    "    ax.quiverkey(quiver, 120, -60, 1,\n",
    "                 label=r'1 m s$^{-1}$',\n",
    "                 coordinates='data')\n",
    "    line, = ax.plot([], [], 'b')\n",
    "\n",
    "    # Non-animated.\n",
    "    ax.plot([0, 150], [0, 0], 'k:')\n",
    "    ax.set_ylabel('Depth [m]')\n",
    "    ax.set_xlabel('Distance [m]')\n",
    "    text = (r'$\\lambda$ = %s m;  h = %s m;  kh = %2.3f;  h/L = %s' %\n",
    "            (L, h, k * h, h/L))\n",
    "    ax.text(10, -65, text)\n",
    "    time_step = ax.text(10, -58, '')\n",
    "    line.set_data([], [])\n",
    "\n",
    "    def init():\n",
    "        return line, quiver, time_step\n",
    "\n",
    "    def animate(i):\n",
    "        time = i * dt\n",
    "        phase = omega * time\n",
    "        eta = a * np.cos(x[0] * k - phase)\n",
    "        u, w = compute_vel(phase)\n",
    "        quiver.set_UVC(u, w)\n",
    "        line.set_data(x[0], 5 * eta)\n",
    "        time_step.set_text('Time = %s s' % time)\n",
    "        return line, quiver, time_step\n",
    "\n",
    "    return animation.FuncAnimation(fig, animate, init_func=init,\n",
    "                                   frames=frames, interval=interval)\n",
    "\n",
    "dt = 0.3\n",
    "basic_animation(dt=dt)"
   ]
  }
 ],
 "metadata": {
  "kernelspec": {
   "display_name": "Python 3",
   "language": "python",
   "name": "python3"
  },
  "language_info": {
   "codemirror_mode": {
    "name": "ipython",
    "version": 3
   },
   "file_extension": ".py",
   "mimetype": "text/x-python",
   "name": "python",
   "nbconvert_exporter": "python",
   "pygments_lexer": "ipython3",
   "version": "3.4.1"
  }
 },
 "nbformat": 4,
 "nbformat_minor": 0
}
