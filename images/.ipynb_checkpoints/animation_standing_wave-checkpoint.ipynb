{
 "cells": [
  {
   "cell_type": "markdown",
   "metadata": {},
   "source": [
    "# Standing wave"
   ]
  },
  {
   "cell_type": "code",
   "execution_count": 1,
   "metadata": {
    "collapsed": false
   },
   "outputs": [],
   "source": [
    "import numpy as np\n",
    "import matplotlib.pyplot as plt\n",
    "from matplotlib import animation\n",
    "\n",
    "from JSAnimation import IPython_display"
   ]
  },
  {
   "cell_type": "code",
   "execution_count": null,
   "metadata": {
    "collapsed": true
   },
   "outputs": [],
   "source": [
    "T = 20.\n",
    "w = 2 * np.pi / T\n",
    "ai = 1.  # Incident.\n",
    "ar = 0.5  # Reflected.\n",
    "d = 0\n",
    "k = w**2 / 9.81  # Deep water wave.\n",
    "\n",
    "t = np.arange(0, 100.5, 0.5)"
   ]
  },
  {
   "cell_type": "code",
   "execution_count": null,
   "metadata": {
    "collapsed": false
   },
   "outputs": [],
   "source": [
    "def basic_animation(frames=100, interval=30):\n",
    "    fig = plt.figure()\n",
    "    ax = plt.axes(xlim=(0, 1000), ylim=(-2, 2))\n",
    "    \n",
    "    # Animated.\n",
    "    line, = ax.plot([], [], 'b', lw=2)\n",
    "    text = ax.text(1, 2.05, '')\n",
    "\n",
    "    # Non-animated.\n",
    "    x = np.arange(0, 1001)\n",
    "    A = (ai**2 + ar**2 + 2*ai * ar * np.cos(2 * k * x + d))**(0.5)\n",
    "    A1 = ai * np.cos(k * x) + ar * np.cos(k * x + d)\n",
    "    A2 = ai * np.sin(k * x) - ar * np.sin(k * x + d)\n",
    "    gamma = np.arctan2(A2, A1)\n",
    "    ax.set_xlabel('Distance [m]')\n",
    "    ax.set_ylabel('Surface Elevation [m]')\n",
    "    ax.set_title('a_i = %s, a_r = %s, T = %s\\nDeep Water Wave' % (ai, ar, T))\n",
    "    ax.plot(x,  A, 'k:')\n",
    "    ax.plot(x, -A, 'k:')\n",
    "    ax.plot(x, [0]*len(x), 'k')\n",
    "    line.set_data([], [])\n",
    "    \n",
    "    def init():\n",
    "        return line, text\n",
    "\n",
    "    def animate(i):\n",
    "        text.set_text('Time [s] = %s' % t[k])\n",
    "        y = A * np.cos(w * t[i] - gamma)\n",
    "        line.set_data(x, y)\n",
    "        return line, text\n",
    "\n",
    "    return animation.FuncAnimation(fig, animate, init_func=init,\n",
    "                                   frames=frames, interval=interval)\n",
    "\n",
    "basic_animation(frames=len(t))"
   ]
  }
 ],
 "metadata": {
  "kernelspec": {
   "display_name": "Python 3",
   "language": "python",
   "name": "python3"
  },
  "language_info": {
   "codemirror_mode": {
    "name": "ipython",
    "version": 3
   },
   "file_extension": ".py",
   "mimetype": "text/x-python",
   "name": "python",
   "nbconvert_exporter": "python",
   "pygments_lexer": "ipython3",
   "version": "3.4.1"
  }
 },
 "nbformat": 4,
 "nbformat_minor": 0
}
